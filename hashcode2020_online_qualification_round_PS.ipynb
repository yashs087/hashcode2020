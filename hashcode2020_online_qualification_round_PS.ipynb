{
  "nbformat": 4,
  "nbformat_minor": 0,
  "metadata": {
    "colab": {
      "name": "hashcode2020_online_qualification_round_PS.ipynb",
      "provenance": [],
      "toc_visible": true,
      "authorship_tag": "ABX9TyMZm3STlfXOivERBIt2jNgZ",
      "include_colab_link": true
    },
    "kernelspec": {
      "name": "python3",
      "display_name": "Python 3"
    }
  },
  "cells": [
    {
      "cell_type": "markdown",
      "metadata": {
        "id": "view-in-github",
        "colab_type": "text"
      },
      "source": [
        "<a href=\"https://colab.research.google.com/github/yashs087/hashcode2020/blob/master/hashcode2020_online_qualification_round_PS.ipynb\" target=\"_parent\"><img src=\"https://colab.research.google.com/assets/colab-badge.svg\" alt=\"Open In Colab\"/></a>"
      ]
    },
    {
      "cell_type": "code",
      "metadata": {
        "id": "tEYcivgd-ybR",
        "colab_type": "code",
        "colab": {}
      },
      "source": [
        "import re"
      ],
      "execution_count": 0,
      "outputs": []
    },
    {
      "cell_type": "code",
      "metadata": {
        "id": "tfoSAIVA9w7k",
        "colab_type": "code",
        "colab": {}
      },
      "source": [
        "f = open(\"/content/f_libraries_of_the_world.txt\", \"r\")\n",
        "#print(f.read())"
      ],
      "execution_count": 0,
      "outputs": []
    },
    {
      "cell_type": "code",
      "metadata": {
        "id": "8jKUALzy98Wc",
        "colab_type": "code",
        "colab": {}
      },
      "source": [
        "b,l,d=[int(x) for x in re.sub(\"\\n\",'',f.readline()).split(' ')]\n",
        "scores=[int(x) for x in re.sub(\"\\n\",'',f.readline()).split(' ')]\n",
        "#dic={i:scores[i] for i in range(0,len(scores))}"
      ],
      "execution_count": 0,
      "outputs": []
    },
    {
      "cell_type": "code",
      "metadata": {
        "id": "KHUZPCEz7QQp",
        "colab_type": "code",
        "colab": {}
      },
      "source": [
        "libs ={}\n",
        "for i in range(int(l)):\n",
        "  n,t,m=[int(x) for x in re.sub(\"\\n\",'',f.readline()).split(' ')]\n",
        "  books=[int(x) for x in re.sub(\"\\n\",'',f.readline()).split(' ')]\n",
        "  libs[i]=[t,n,m,books]\n"
      ],
      "execution_count": 0,
      "outputs": []
    },
    {
      "cell_type": "code",
      "metadata": {
        "id": "36nRWQgwFPqW",
        "colab_type": "code",
        "colab": {}
      },
      "source": [
        "libs=sorted(libs.items(), key=lambda x: x[1])"
      ],
      "execution_count": 0,
      "outputs": []
    },
    {
      "cell_type": "code",
      "metadata": {
        "id": "b5QjpiPpB2Px",
        "colab_type": "code",
        "colab": {}
      },
      "source": [
        "def scan(iu,lib):\n",
        "  global scores, scanned\n",
        "  newscanned=set()\n",
        "\n",
        "  days=iu\n",
        "  if d<=iu:\n",
        "    return 0\n",
        "  ab={i:scores[i] for i in lib[1][3]}\n",
        "  ab=sorted(ab.items(), key=lambda x: x[1], reverse=True)\n",
        "  \n",
        "  count=0\n",
        "  for i in ab:\n",
        "    if days>=d:\n",
        "      break\n",
        "    if i in scanned:\n",
        "      continue\n",
        "    else:\n",
        "      #print(i)\n",
        "      newscanned.add(i)\n",
        "      #print(len(newscanned))\n",
        "      count=count+1\n",
        "      if count==lib[1][2]:\n",
        "        #print(days)\n",
        "        days=days+1\n",
        "        count=0\n",
        "  #print(newscanned)\n",
        "  scanned=scanned|newscanned\n",
        "  abc=str(lib[0])+\" \"+str(len(newscanned))+\"\\n\"\n",
        "  o.write(abc)\n",
        "  #print(abc)\n",
        "  #print(\" \".join([str(x[0]) for x in newscanned])+\"\\n\")\n",
        "  o.write(\" \".join([str(x[0]) for x in newscanned])+\"\\n\")\n",
        "  return 1"
      ],
      "execution_count": 0,
      "outputs": []
    },
    {
      "cell_type": "code",
      "metadata": {
        "id": "uEcncMOaEJi7",
        "colab_type": "code",
        "outputId": "34a67ebe-b001-4df9-f16a-abc370761e38",
        "colab": {
          "base_uri": "https://localhost:8080/",
          "height": 34
        }
      },
      "source": [
        "#print(d)\n",
        "o = open(\"/content/f_out.txt\", \"w\")\n",
        "o = open(\"/content/f_out.txt\", \"a\")\n",
        "iu=0\n",
        "scoring=0\n",
        "scanned=set()\n",
        "libnum=0\n",
        "o.write(\"\\n\")\n",
        "for lib in libs:\n",
        "  if iu>=d:\n",
        "    break\n",
        "  iu=iu+lib[1][0]\n",
        "  flag=1\n",
        "  flag=scan(iu,lib)\n",
        "  if flag==1:\n",
        "    libnum=libnum+1\n",
        "#print(scoring)\n",
        "abc=str(libnum)\n",
        "o.seek(0)\n",
        "o.write(str(libnum))\n",
        "print(abc)\n"
      ],
      "execution_count": 0,
      "outputs": [
        {
          "output_type": "stream",
          "text": [
            "21\n"
          ],
          "name": "stdout"
        }
      ]
    },
    {
      "cell_type": "code",
      "metadata": {
        "id": "Mzmb_LVeeCLr",
        "colab_type": "code",
        "outputId": "e686c8b0-8a57-4507-f717-6035f9d8db90",
        "colab": {
          "base_uri": "https://localhost:8080/",
          "height": 34
        }
      },
      "source": [
        "abc"
      ],
      "execution_count": 0,
      "outputs": [
        {
          "output_type": "execute_result",
          "data": {
            "text/plain": [
              "'91'"
            ]
          },
          "metadata": {
            "tags": []
          },
          "execution_count": 120
        }
      ]
    },
    {
      "cell_type": "code",
      "metadata": {
        "id": "jvizGaSQ8iyG",
        "colab_type": "code",
        "colab": {}
      },
      "source": [
        "\n",
        "o.write(libnum, len(scanned))\n",
        "o = open(\"/content/a_out.txt\", \"a\")\n",
        "\n"
      ],
      "execution_count": 0,
      "outputs": []
    },
    {
      "cell_type": "code",
      "metadata": {
        "id": "Y4lMmH228yN-",
        "colab_type": "code",
        "colab": {}
      },
      "source": [
        "c=open(\"/content/test.txt\",\"w\")\n",
        "c.seek(1)\n",
        "c.write(\"hello\")\n",
        "c.close()"
      ],
      "execution_count": 0,
      "outputs": []
    }
  ]
}